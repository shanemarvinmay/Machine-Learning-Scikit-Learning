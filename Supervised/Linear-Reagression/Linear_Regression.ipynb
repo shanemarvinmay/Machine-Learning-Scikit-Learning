{
 "cells": [
  {
   "cell_type": "markdown",
   "metadata": {},
   "source": [
    "# This is an example of linear regression\n",
    "## [Reference link from scikit-learn](https://scikit-learn.org/stable/modules/linear_model.html#ordinary-least-squares)"
   ]
  },
  {
   "cell_type": "markdown",
   "metadata": {},
   "source": [
    "## importing tools"
   ]
  },
  {
   "cell_type": "code",
   "execution_count": 58,
   "metadata": {},
   "outputs": [],
   "source": [
    "import matplotlib.pyplot as plt\n",
    "import numpy as np\n",
    "import pandas as pd\n",
    "from sklearn import datasets, linear_model \n",
    "from sklearn.metrics import mean_squared_error, r2_score\n",
    "from sklearn.model_selection import train_test_split\n",
    "from sklearn.metrics import mean_squared_error\n",
    "import math"
   ]
  },
  {
   "cell_type": "markdown",
   "metadata": {},
   "source": [
    "### Basic example of Concept"
   ]
  },
  {
   "cell_type": "code",
   "execution_count": 59,
   "metadata": {},
   "outputs": [
    {
     "data": {
      "image/png": "[encoded data removed]",
      "text/plain": [
       "<Figure size 432x288 with 1 Axes>"
      ]
     },
     "metadata": {
      "needs_background": "light"
     },
     "output_type": "display_data"
    }
   ],
   "source": [
    "df = pd.DataFrame( np.array([ [0,.2],[1,0.8],[2,2.2],[3,2.8],[4,4.2],[5,4.8] ]), columns=['x', 'y']  )\n",
    "# df2 = pd.DataFrame(np.array([[1, 2, 3], [4, 5, 6], [7, 8, 9]]),\n",
    "#                 columns=['a', 'b', 'c'])\n",
    "features = df['x']\n",
    "labels = df['y']\n",
    "plt.scatter(features,labels)\n",
    "x = features.values.reshape(-1,1)\n",
    "y = labels.values.reshape(-1,1)\n",
    "'''\n",
    "so here is the deal with this reshape thing\n",
    "it is used to put your values in the right shape by\n",
    "reshape(row, col)\n",
    "so reshape(-1, 1) \n",
    "-1 for rows because we don't know how many rows there will be\n",
    "1 for columns because we will only have one column\n",
    "'''\n",
    "x_train, x_test, y_train, y_test = train_test_split(x, y, test_size=0.2, random_state=0)\n",
    "# this splits our data into training data and testing data\n",
    "# the x is our features \n",
    "# the y is our labels\n",
    "# test_size is how big our test data will be\n",
    "# random_state is making sure that we will always get the same random numbers\n",
    "\n",
    "# in case you want to see anything, just uncomment it below\n",
    "# print('df')\n",
    "# print(df)\n",
    "# print('x\\n',x)\n",
    "# print('y\\n',y)\n",
    "# print('x_train\\n',x_train,'\\nx_test\\n', x_test)\n",
    "# print( 'y_train]\\n',y_train,'\\ny_test\\n', y_test)\n",
    "# >>> reg = linear_model.LinearRegression()\n",
    "# >>> reg.fit([[0, 0], [1, 1], [2, 2]], [0, 1, 2])\n",
    "# LinearRegression()\n",
    "# >>> reg.coef_\n",
    "# array([0.5, 0.5])"
   ]
  },
  {
   "cell_type": "code",
   "execution_count": 60,
   "metadata": {},
   "outputs": [
    {
     "data": {
      "text/plain": [
       "LinearRegression(copy_X=True, fit_intercept=True, n_jobs=None, normalize=False)"
      ]
     },
     "execution_count": 60,
     "metadata": {},
     "output_type": "execute_result"
    }
   ],
   "source": [
    "from sklearn.model_selection import train_test_split\n",
    "model.fit(x,y)"
   ]
  },
  {
   "cell_type": "code",
   "execution_count": 61,
   "metadata": {},
   "outputs": [
    {
     "name": "stdout",
     "output_type": "stream",
     "text": [
      "[0.08571429]\n",
      "[[0.96571429]]\n",
      "[[4.91428571]]\n"
     ]
    }
   ],
   "source": [
    "print(model.intercept_)\n",
    "# the intercept is where model cross the y axis\n",
    "print(model.coef_)\n",
    "# coef is short for coefficient and is a number timesed by the feature to find the label\n",
    "# so for every feature you will have a coefficient\n",
    "# these coefficients are often called weights\n",
    "\n",
    "input_for_prediction = np.array([5]).reshape(-1,1)\n",
    "print(model.predict(input_for_prediction))\n",
    "\n",
    "\n"
   ]
  },
  {
   "cell_type": "code",
   "execution_count": 63,
   "metadata": {},
   "outputs": [
    {
     "name": "stdout",
     "output_type": "stream",
     "text": [
      "score:\t 0.9862432073421084\n",
      "mse:\t 0.023248979591836864\n",
      "rmse:\t 0.15247616073287282\n",
      "   predicted  actual\n",
      "0   4.914286     4.8\n",
      "1   2.017143     2.2\n"
     ]
    }
   ],
   "source": [
    "# Testing model\n",
    "print('score:\\t',model.score(x_test,y_test)) # score is accuracy (coefficient of determination (𝑅²))\n",
    "y_predicted = model.predict(x_test)\n",
    "mse = mean_squared_error(y_predicted, y_test) # how much the model was off squared\n",
    "print('mse:\\t',mse)\n",
    "rmse = math.sqrt(mean_squared_error(y_test, y_predicted)) # the square root how much the model was off squared\n",
    "print('rmse:\\t', rmse)\n",
    "predicted_vs_actual = pd.DataFrame({'predicted':y_predicted.flatten(), 'actual': y_test.flatten()})\n",
    "print(predicted_vs_actual)"
   ]
  },
  {
   "cell_type": "code",
   "execution_count": null,
   "metadata": {},
   "outputs": [],
   "source": [
    "# SHANE YOU HAVEN'T DONE THIS! IT'S JUST EXAMPLE CODE. \n",
    "# ALSO YOU WHERE ON LOSS AT https://towardsdatascience.com/a-beginners-guide-to-linear-regression-in-python-with-scikit-learn-83a8f7ae2b4f\n",
    "what the model looks like on training data\n",
    "plot.scatter(xTrain, yTrain, color = 'red')\n",
    "plot.plot(xTrain, linearRegressor.predict(xTrain), color = 'blue')\n",
    "plot.title('Salary vs Experience (Training set)')\n",
    "plot.xlabel('Years of Experience')\n",
    "plot.ylabel('Salary')\n",
    "plot.show()\n",
    "\n",
    "what the model looks like on testing data\n",
    "plot.scatter(xTest, yTest, color = 'red')\n",
    "plot.plot(xTrain, linearRegressor.predict(xTrain), color = 'blue')\n",
    "plot.title('Salary vs Experience (Test set)')\n",
    "plot.xlabel('Years of Experience')\n",
    "plot.ylabel('Salary')\n",
    "plot.show()\n",
    "\n",
    "just another example but only using test\n",
    "plt.scatter(X_test, y_test,  color='gray')\n",
    "plt.plot(X_test, y_pred, color='red', linewidth=2)\n",
    "plt.show()\n",
    "\n",
    "# example from scikit learn\n",
    "plt.scatter(diabetes_X_test, diabetes_y_test,  color='black')\n",
    "plt.plot(diabetes_X_test, diabetes_y_pred, color='blue', linewidth=3)\n",
    "\n",
    "plt.xticks(())\n",
    "plt.yticks(())\n",
    "\n",
    "plt.show()\n",
    "\n",
    "what is r2_score? I saw it on scikit learn @ https://scikit-learn.org/stable/auto_examples/linear_model/plot_ols.html#sphx-glr-auto-examples-linear-model-plot-ols-py "
   ]
  }
 ],
 "metadata": {
  "kernelspec": {
   "display_name": "Python 3",
   "language": "python",
   "name": "python3"
  },
  "language_info": {
   "codemirror_mode": {
    "name": "ipython",
    "version": 3
   },
   "file_extension": ".py",
   "mimetype": "text/x-python",
   "name": "python",
   "nbconvert_exporter": "python",
   "pygments_lexer": "ipython3",
   "version": "3.7.4"
  }
 },
 "nbformat": 4,
 "nbformat_minor": 2
}
