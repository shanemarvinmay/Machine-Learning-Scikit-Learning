{
 "cells": [
  {
   "cell_type": "markdown",
   "metadata": {},
   "source": [
    "# This is an example of linear regression\n",
    "## [Reference link from scikit-learn](https://scikit-learn.org/stable/modules/linear_model.html#ordinary-least-squares)"
   ]
  },
  {
   "cell_type": "markdown",
   "metadata": {},
   "source": [
    "## Importing tools"
   ]
  },
  {
   "cell_type": "code",
   "execution_count": 76,
   "metadata": {},
   "outputs": [],
   "source": [
    "import matplotlib.pyplot as plt\n",
    "import numpy as np\n",
    "import pandas as pd\n",
    "from sklearn import datasets, linear_model \n",
    "from sklearn.metrics import mean_squared_error, r2_score, mean_absolute_error\n",
    "from sklearn.model_selection import train_test_split\n",
    "from sklearn.metrics import mean_squared_error\n",
    "import math"
   ]
  },
  {
   "cell_type": "markdown",
   "metadata": {},
   "source": [
    "### Basic example of concept"
   ]
  },
  {
   "cell_type": "markdown",
   "metadata": {},
   "source": [
    "1. Getting the data\n",
    "2. Cleaning the data\n",
    "3. Visualizing the data\n",
    "4. Spliting the data into training and testing data"
   ]
  },
  {
   "cell_type": "code",
   "execution_count": 77,
   "metadata": {},
   "outputs": [
    {
     "data": {
      "image/png": "[encoded data removed]",
      "text/plain": [
       "<Figure size 432x288 with 1 Axes>"
      ]
     },
     "metadata": {
      "needs_background": "light"
     },
     "output_type": "display_data"
    }
   ],
   "source": [
    "df = pd.DataFrame( np.array([ [0,.2],[1,0.8],[2,2.2],[3,2.8],[4,4.2],[5,4.8] ]), columns=['x', 'y']  )\n",
    "# df2 = pd.DataFrame(np.array([[1, 2, 3], [4, 5, 6], [7, 8, 9]]),\n",
    "#                 columns=['a', 'b', 'c'])\n",
    "features = df['x']\n",
    "labels = df['y']\n",
    "plt.scatter(features,labels)\n",
    "x = features.values.reshape(-1,1)\n",
    "y = labels.values.reshape(-1,1)\n",
    "'''\n",
    "so here is the deal with this reshape thing\n",
    "it is used to put your values in the right shape by\n",
    "reshape(row, col)\n",
    "so reshape(-1, 1) \n",
    "-1 for rows because we don't know how many rows there will be\n",
    "1 for columns because we will only have one column\n",
    "'''\n",
    "x_train, x_test, y_train, y_test = train_test_split(x, y, test_size=0.2, random_state=0)\n",
    "# this splits our data into training data and testing data\n",
    "# the x is our features \n",
    "# the y is our labels\n",
    "# test_size is how big our test data will be\n",
    "# random_state is making sure that we will always get the same random numbers\n",
    "\n",
    "# in case you want to see anything, just uncomment it below\n",
    "# print('df')\n",
    "# print(df)\n",
    "# print('x\\n',x)\n",
    "# print('y\\n',y)\n",
    "# print('x_train\\n',x_train,'\\nx_test\\n', x_test)\n",
    "# print( 'y_train]\\n',y_train,'\\ny_test\\n', y_test)\n",
    "# >>> reg = linear_model.LinearRegression()\n",
    "# >>> reg.fit([[0, 0], [1, 1], [2, 2]], [0, 1, 2])\n",
    "# LinearRegression()\n",
    "# >>> reg.coef_\n",
    "# array([0.5, 0.5])"
   ]
  },
  {
   "cell_type": "markdown",
   "metadata": {},
   "source": [
    "### The machine learning part.\n",
    "#### Here we are actually training and forming the linear regressor! (How exciting?)"
   ]
  },
  {
   "cell_type": "code",
   "execution_count": 78,
   "metadata": {},
   "outputs": [
    {
     "data": {
      "text/plain": [
       "LinearRegression(copy_X=True, fit_intercept=True, n_jobs=None, normalize=False)"
      ]
     },
     "execution_count": 78,
     "metadata": {},
     "output_type": "execute_result"
    }
   ],
   "source": [
    "model.fit(x,y)"
   ]
  },
  {
   "cell_type": "markdown",
   "metadata": {},
   "source": [
    " Now let's look at how our model turned out by looking at the intercept (bias) and coef (weight). \n",
    " \n",
    " \n",
    " We'll even make a few predictions with out linear regression model."
   ]
  },
  {
   "cell_type": "code",
   "execution_count": 114,
   "metadata": {},
   "outputs": [
    {
     "name": "stdout",
     "output_type": "stream",
     "text": [
      "model.intercept_: [0.08571429]\n",
      "model.coef_: [[0.96571429]]\n",
      "prediction input : 5 output : [[4.91428571]]\n"
     ]
    }
   ],
   "source": [
    "print('model.intercept_:', model.intercept_)\n",
    "# the intercept is where model cross the y axis\n",
    "print('model.coef_:', model.coef_)\n",
    "# coef is short for coefficient and is a number timesed by the feature to find the label\n",
    "# so for every feature you will have a coefficient\n",
    "# these coefficients are often called weights\n",
    "\n",
    "input_for_prediction = np.array([5]).reshape(-1,1)\n",
    "print('prediction input : 5 output :',model.predict(input_for_prediction))"
   ]
  },
  {
   "cell_type": "markdown",
   "metadata": {},
   "source": [
    "Now we'll evaluate our model by testing it and seeing what the loss is."
   ]
  },
  {
   "cell_type": "code",
   "execution_count": 120,
   "metadata": {},
   "outputs": [
    {
     "name": "stdout",
     "output_type": "stream",
     "text": [
      "score:\t\t 1.0\n",
      "mae:\t\t 0.14857142857142902\n",
      "mse:\t\t 0.023248979591836864\n",
      "rmse:\t\t 0.15247616073287282\n",
      "r2_score:\t 0.9862432073421084\n",
      "   predicted  actual\n",
      "0   4.914286     4.8\n",
      "1   2.017143     2.2\n"
     ]
    }
   ],
   "source": [
    "# Testing model\n",
    "y_predicted = model.predict(x_test)\n",
    "print('score:\\t\\t',model.score(x_test,y_predicted)) # score is accuracy (coefficient of determination (𝑅²))\n",
    "mae = mean_absolute_error(y_test, y_predicted) # the absolute value of how much we are off on average\n",
    "print('mae:\\t\\t', mae)\n",
    "mse = mean_squared_error(y_test, y_predicted) # mae, but the difference is squared first\n",
    "print('mse:\\t\\t', mse)\n",
    "rmse = math.sqrt(mean_squared_error(y_test, y_predicted)) # mse, but the square root is taken at the end\n",
    "print('rmse:\\t\\t', rmse)\n",
    "print('r2_score:\\t',r2_score(y_test, y_predicted)) # The r2_score (coefficient of determination): 1 is perfect prediction \n",
    "predicted_vs_actual = pd.DataFrame({'predicted':y_predicted.flatten(), 'actual': y_test.flatten()})\n",
    "print(predicted_vs_actual)\n",
    "# flatten just makes it so a matrix will turn into a 1d array.\n",
    "# it does this be turning the columns into rows,\n",
    "# then putting them all together in the order they where in for columns\n",
    "# so it'll go col 1 with col 2 attched at the end and it keeps going"
   ]
  },
  {
   "cell_type": "markdown",
   "metadata": {},
   "source": [
    "### Let's visualize the model!\n",
    "Here we'll scatter plot out our data, then we'll plot out our model on top of it to see what's happening."
   ]
  },
  {
   "cell_type": "code",
   "execution_count": 121,
   "metadata": {},
   "outputs": [
    {
     "name": "stdout",
     "output_type": "stream",
     "text": [
      "VISUALIZING THE MODEL # 1\n"
     ]
    },
    {
     "data": {
      "image/png": "[encoded data removed]",
      "text/plain": [
       "<Figure size 432x288 with 1 Axes>"
      ]
     },
     "metadata": {
      "needs_background": "light"
     },
     "output_type": "display_data"
    },
    {
     "data": {
      "image/png": "[encoded data removed]",
      "text/plain": [
       "<Figure size 432x288 with 1 Axes>"
      ]
     },
     "metadata": {
      "needs_background": "light"
     },
     "output_type": "display_data"
    },
    {
     "name": "stdout",
     "output_type": "stream",
     "text": [
      "VISUALIZING THE MODEL # 2\n"
     ]
    },
    {
     "data": {
      "image/png": "[encoded data removed]",
      "text/plain": [
       "<Figure size 432x288 with 1 Axes>"
      ]
     },
     "metadata": {
      "needs_background": "light"
     },
     "output_type": "display_data"
    },
    {
     "name": "stdout",
     "output_type": "stream",
     "text": [
      "VISUALIZING THE MODEL # 3\n"
     ]
    },
    {
     "data": {
      "image/png": "[encoded data removed]",
      "text/plain": [
       "<Figure size 432x288 with 1 Axes>"
      ]
     },
     "metadata": {},
     "output_type": "display_data"
    }
   ],
   "source": [
    "print('VISUALIZING THE MODEL # 1')\n",
    "plt.scatter(x_train, y_train, color = \"blue\")\n",
    "plt.plot(x_train, model.predict(x_train), color = \"green\")\n",
    "plt.title('Visualizing the model (Training set)')\n",
    "plt.xlabel('x')\n",
    "plt.ylabel('y')\n",
    "plt.show()\n",
    "\n",
    "plt.scatter(x_test, y_test, color = \"blue\")\n",
    "plt.plot(x_test, model.predict(x_test), color = \"green\")\n",
    "plt.title('Visualizing the model (Test set)')\n",
    "plt.xlabel('x')\n",
    "plt.ylabel('y')\n",
    "plt.show()\n",
    "\n",
    "print('VISUALIZING THE MODEL # 2')\n",
    "plt.scatter(np.concatenate((x_train,x_test)), np.concatenate((y_train,y_test)), color=\"blue\" )\n",
    "plt.plot(np.concatenate((x_train,x_test)), np.concatenate((model.predict(x_train),model.predict(x_test) )), color=\"green\", linewidth=2 )\n",
    "plt.show()\n",
    "\n",
    "print('VISUALIZING THE MODEL # 3')\n",
    "x = np.concatenate((x_train,x_test))\n",
    "y = np.concatenate((y_train,y_test))\n",
    "predict = np.concatenate((model.predict(x_train),model.predict(x_test) ))\n",
    "plt.scatter(x, y, color=\"#000000aa\") # this means you can use rgba colors with pyplot\n",
    "plt.plot(x , predict, color=\"#4169e1cc\")\n",
    "plt.xticks(())\n",
    "plt.yticks(())\n",
    "plt.show()\n",
    "\n",
    "# what is r2_score? I saw it on scikit learn @ https://scikit-learn.org/stable/auto_examples/linear_model/plot_ols.html#sphx-glr-auto-examples-linear-model-plot-ols-py "
   ]
  },
  {
   "cell_type": "markdown",
   "metadata": {},
   "source": [
    "### Multiple Linear Regression (linear regression with multiple variables) example of concept"
   ]
  },
  {
   "cell_type": "markdown",
   "metadata": {},
   "source": [
    "## Real world example using cars."
   ]
  },
  {
   "cell_type": "markdown",
   "metadata": {},
   "source": [
    "### Importing datasets"
   ]
  },
  {
   "cell_type": "code",
   "execution_count": 122,
   "metadata": {},
   "outputs": [],
   "source": [
    "df = pd.read_csv('datasets/Automobile_data.csv') # symboling has to do with how risky a car is from an insurance perspective"
   ]
  },
  {
   "cell_type": "code",
   "execution_count": 124,
   "metadata": {},
   "outputs": [
    {
     "data": {
      "text/html": [
       "<div>\n",
       "<style scoped>\n",
       "    .dataframe tbody tr th:only-of-type {\n",
       "        vertical-align: middle;\n",
       "    }\n",
       "\n",
       "    .dataframe tbody tr th {\n",
       "        vertical-align: top;\n",
       "    }\n",
       "\n",
       "    .dataframe thead th {\n",
       "        text-align: right;\n",
       "    }\n",
       "</style>\n",
       "<table border=\"1\" class=\"dataframe\">\n",
       "  <thead>\n",
       "    <tr style=\"text-align: right;\">\n",
       "      <th></th>\n",
       "      <th>symboling</th>\n",
       "      <th>wheel-base</th>\n",
       "      <th>length</th>\n",
       "      <th>width</th>\n",
       "      <th>height</th>\n",
       "      <th>curb-weight</th>\n",
       "      <th>engine-size</th>\n",
       "      <th>compression-ratio</th>\n",
       "      <th>city-mpg</th>\n",
       "      <th>highway-mpg</th>\n",
       "    </tr>\n",
       "  </thead>\n",
       "  <tbody>\n",
       "    <tr>\n",
       "      <td>count</td>\n",
       "      <td>205.000000</td>\n",
       "      <td>205.000000</td>\n",
       "      <td>205.000000</td>\n",
       "      <td>205.000000</td>\n",
       "      <td>205.000000</td>\n",
       "      <td>205.000000</td>\n",
       "      <td>205.000000</td>\n",
       "      <td>205.000000</td>\n",
       "      <td>205.000000</td>\n",
       "      <td>205.000000</td>\n",
       "    </tr>\n",
       "    <tr>\n",
       "      <td>mean</td>\n",
       "      <td>0.834146</td>\n",
       "      <td>98.756585</td>\n",
       "      <td>174.049268</td>\n",
       "      <td>65.907805</td>\n",
       "      <td>53.724878</td>\n",
       "      <td>2555.565854</td>\n",
       "      <td>126.907317</td>\n",
       "      <td>10.142537</td>\n",
       "      <td>25.219512</td>\n",
       "      <td>30.751220</td>\n",
       "    </tr>\n",
       "    <tr>\n",
       "      <td>std</td>\n",
       "      <td>1.245307</td>\n",
       "      <td>6.021776</td>\n",
       "      <td>12.337289</td>\n",
       "      <td>2.145204</td>\n",
       "      <td>2.443522</td>\n",
       "      <td>520.680204</td>\n",
       "      <td>41.642693</td>\n",
       "      <td>3.972040</td>\n",
       "      <td>6.542142</td>\n",
       "      <td>6.886443</td>\n",
       "    </tr>\n",
       "    <tr>\n",
       "      <td>min</td>\n",
       "      <td>-2.000000</td>\n",
       "      <td>86.600000</td>\n",
       "      <td>141.100000</td>\n",
       "      <td>60.300000</td>\n",
       "      <td>47.800000</td>\n",
       "      <td>1488.000000</td>\n",
       "      <td>61.000000</td>\n",
       "      <td>7.000000</td>\n",
       "      <td>13.000000</td>\n",
       "      <td>16.000000</td>\n",
       "    </tr>\n",
       "    <tr>\n",
       "      <td>25%</td>\n",
       "      <td>0.000000</td>\n",
       "      <td>94.500000</td>\n",
       "      <td>166.300000</td>\n",
       "      <td>64.100000</td>\n",
       "      <td>52.000000</td>\n",
       "      <td>2145.000000</td>\n",
       "      <td>97.000000</td>\n",
       "      <td>8.600000</td>\n",
       "      <td>19.000000</td>\n",
       "      <td>25.000000</td>\n",
       "    </tr>\n",
       "    <tr>\n",
       "      <td>50%</td>\n",
       "      <td>1.000000</td>\n",
       "      <td>97.000000</td>\n",
       "      <td>173.200000</td>\n",
       "      <td>65.500000</td>\n",
       "      <td>54.100000</td>\n",
       "      <td>2414.000000</td>\n",
       "      <td>120.000000</td>\n",
       "      <td>9.000000</td>\n",
       "      <td>24.000000</td>\n",
       "      <td>30.000000</td>\n",
       "    </tr>\n",
       "    <tr>\n",
       "      <td>75%</td>\n",
       "      <td>2.000000</td>\n",
       "      <td>102.400000</td>\n",
       "      <td>183.100000</td>\n",
       "      <td>66.900000</td>\n",
       "      <td>55.500000</td>\n",
       "      <td>2935.000000</td>\n",
       "      <td>141.000000</td>\n",
       "      <td>9.400000</td>\n",
       "      <td>30.000000</td>\n",
       "      <td>34.000000</td>\n",
       "    </tr>\n",
       "    <tr>\n",
       "      <td>max</td>\n",
       "      <td>3.000000</td>\n",
       "      <td>120.900000</td>\n",
       "      <td>208.100000</td>\n",
       "      <td>72.300000</td>\n",
       "      <td>59.800000</td>\n",
       "      <td>4066.000000</td>\n",
       "      <td>326.000000</td>\n",
       "      <td>23.000000</td>\n",
       "      <td>49.000000</td>\n",
       "      <td>54.000000</td>\n",
       "    </tr>\n",
       "  </tbody>\n",
       "</table>\n",
       "</div>"
      ],
      "text/plain": [
       "        symboling  wheel-base      length       width      height  \\\n",
       "count  205.000000  205.000000  205.000000  205.000000  205.000000   \n",
       "mean     0.834146   98.756585  174.049268   65.907805   53.724878   \n",
       "std      1.245307    6.021776   12.337289    2.145204    2.443522   \n",
       "min     -2.000000   86.600000  141.100000   60.300000   47.800000   \n",
       "25%      0.000000   94.500000  166.300000   64.100000   52.000000   \n",
       "50%      1.000000   97.000000  173.200000   65.500000   54.100000   \n",
       "75%      2.000000  102.400000  183.100000   66.900000   55.500000   \n",
       "max      3.000000  120.900000  208.100000   72.300000   59.800000   \n",
       "\n",
       "       curb-weight  engine-size  compression-ratio    city-mpg  highway-mpg  \n",
       "count   205.000000   205.000000         205.000000  205.000000   205.000000  \n",
       "mean   2555.565854   126.907317          10.142537   25.219512    30.751220  \n",
       "std     520.680204    41.642693           3.972040    6.542142     6.886443  \n",
       "min    1488.000000    61.000000           7.000000   13.000000    16.000000  \n",
       "25%    2145.000000    97.000000           8.600000   19.000000    25.000000  \n",
       "50%    2414.000000   120.000000           9.000000   24.000000    30.000000  \n",
       "75%    2935.000000   141.000000           9.400000   30.000000    34.000000  \n",
       "max    4066.000000   326.000000          23.000000   49.000000    54.000000  "
      ]
     },
     "execution_count": 124,
     "metadata": {},
     "output_type": "execute_result"
    }
   ],
   "source": [
    "df.describe()"
   ]
  },
  {
   "cell_type": "code",
   "execution_count": null,
   "metadata": {},
   "outputs": [],
   "source": [
    "df.hist(bins=50,)"
   ]
  }
 ],
 "metadata": {
  "kernelspec": {
   "display_name": "Python 3",
   "language": "python",
   "name": "python3"
  },
  "language_info": {
   "codemirror_mode": {
    "name": "ipython",
    "version": 3
   },
   "file_extension": ".py",
   "mimetype": "text/x-python",
   "name": "python",
   "nbconvert_exporter": "python",
   "pygments_lexer": "ipython3",
   "version": "3.7.4"
  }
 },
 "nbformat": 4,
 "nbformat_minor": 2
}
